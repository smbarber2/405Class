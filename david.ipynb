{
 "cells": [
  {
   "cell_type": "code",
   "execution_count": 4,
   "metadata": {},
   "outputs": [],
   "source": [
    "import numpy as np\n",
    "import pandas as pd\n",
    "import matplotlib as plt"
   ]
  },
  {
   "cell_type": "markdown",
   "metadata": {},
   "source": [
    "## Are the cases for Texas increasing decreasing or stable for the last week of 2020 data?"
   ]
  },
  {
   "cell_type": "code",
   "execution_count": 5,
   "metadata": {},
   "outputs": [
    {
     "name": "stderr",
     "output_type": "stream",
     "text": [
      "C:\\Users\\rulef\\AppData\\Local\\Temp\\ipykernel_17508\\3714780109.py:21: SettingWithCopyWarning: \n",
      "A value is trying to be set on a copy of a slice from a DataFrame\n",
      "\n",
      "See the caveats in the documentation: https://pandas.pydata.org/pandas-docs/stable/user_guide/indexing.html#returning-a-view-versus-a-copy\n",
      "  week_data.loc['totals'] = week_data.sum()\n"
     ]
    },
    {
     "data": {
      "text/html": [
       "<div>\n",
       "<style scoped>\n",
       "    .dataframe tbody tr th:only-of-type {\n",
       "        vertical-align: middle;\n",
       "    }\n",
       "\n",
       "    .dataframe tbody tr th {\n",
       "        vertical-align: top;\n",
       "    }\n",
       "\n",
       "    .dataframe thead th {\n",
       "        text-align: right;\n",
       "    }\n",
       "</style>\n",
       "<table border=\"1\" class=\"dataframe\">\n",
       "  <thead>\n",
       "    <tr style=\"text-align: right;\">\n",
       "      <th></th>\n",
       "      <th>2020-12-25_cases</th>\n",
       "      <th>2020-12-26_cases</th>\n",
       "      <th>2020-12-27_cases</th>\n",
       "      <th>2020-12-28_cases</th>\n",
       "      <th>2020-12-29_cases</th>\n",
       "      <th>2020-12-30_cases</th>\n",
       "      <th>2020-12-31_cases</th>\n",
       "    </tr>\n",
       "  </thead>\n",
       "  <tbody>\n",
       "    <tr>\n",
       "      <th>2547</th>\n",
       "      <td>0</td>\n",
       "      <td>0</td>\n",
       "      <td>0</td>\n",
       "      <td>0</td>\n",
       "      <td>0</td>\n",
       "      <td>0</td>\n",
       "      <td>0</td>\n",
       "    </tr>\n",
       "    <tr>\n",
       "      <th>2548</th>\n",
       "      <td>4270</td>\n",
       "      <td>4270</td>\n",
       "      <td>4270</td>\n",
       "      <td>4270</td>\n",
       "      <td>4505</td>\n",
       "      <td>4510</td>\n",
       "      <td>4538</td>\n",
       "    </tr>\n",
       "    <tr>\n",
       "      <th>2549</th>\n",
       "      <td>1361</td>\n",
       "      <td>1361</td>\n",
       "      <td>1361</td>\n",
       "      <td>1361</td>\n",
       "      <td>1361</td>\n",
       "      <td>1405</td>\n",
       "      <td>1416</td>\n",
       "    </tr>\n",
       "    <tr>\n",
       "      <th>2550</th>\n",
       "      <td>5186</td>\n",
       "      <td>5186</td>\n",
       "      <td>5186</td>\n",
       "      <td>5186</td>\n",
       "      <td>5186</td>\n",
       "      <td>5370</td>\n",
       "      <td>5489</td>\n",
       "    </tr>\n",
       "    <tr>\n",
       "      <th>2551</th>\n",
       "      <td>691</td>\n",
       "      <td>691</td>\n",
       "      <td>700</td>\n",
       "      <td>700</td>\n",
       "      <td>709</td>\n",
       "      <td>722</td>\n",
       "      <td>730</td>\n",
       "    </tr>\n",
       "    <tr>\n",
       "      <th>...</th>\n",
       "      <td>...</td>\n",
       "      <td>...</td>\n",
       "      <td>...</td>\n",
       "      <td>...</td>\n",
       "      <td>...</td>\n",
       "      <td>...</td>\n",
       "      <td>...</td>\n",
       "    </tr>\n",
       "    <tr>\n",
       "      <th>2798</th>\n",
       "      <td>759</td>\n",
       "      <td>759</td>\n",
       "      <td>759</td>\n",
       "      <td>759</td>\n",
       "      <td>759</td>\n",
       "      <td>775</td>\n",
       "      <td>779</td>\n",
       "    </tr>\n",
       "    <tr>\n",
       "      <th>2799</th>\n",
       "      <td>1372</td>\n",
       "      <td>1372</td>\n",
       "      <td>1379</td>\n",
       "      <td>1379</td>\n",
       "      <td>1394</td>\n",
       "      <td>1404</td>\n",
       "      <td>1419</td>\n",
       "    </tr>\n",
       "    <tr>\n",
       "      <th>2800</th>\n",
       "      <td>904</td>\n",
       "      <td>904</td>\n",
       "      <td>912</td>\n",
       "      <td>912</td>\n",
       "      <td>929</td>\n",
       "      <td>958</td>\n",
       "      <td>958</td>\n",
       "    </tr>\n",
       "    <tr>\n",
       "      <th>2801</th>\n",
       "      <td>858</td>\n",
       "      <td>858</td>\n",
       "      <td>858</td>\n",
       "      <td>858</td>\n",
       "      <td>861</td>\n",
       "      <td>871</td>\n",
       "      <td>876</td>\n",
       "    </tr>\n",
       "    <tr>\n",
       "      <th>totals</th>\n",
       "      <td>1657857</td>\n",
       "      <td>1660551</td>\n",
       "      <td>1668597</td>\n",
       "      <td>1683426</td>\n",
       "      <td>1715978</td>\n",
       "      <td>1737447</td>\n",
       "      <td>1756172</td>\n",
       "    </tr>\n",
       "  </tbody>\n",
       "</table>\n",
       "<p>256 rows × 7 columns</p>\n",
       "</div>"
      ],
      "text/plain": [
       "        2020-12-25_cases  2020-12-26_cases  2020-12-27_cases  \\\n",
       "2547                   0                 0                 0   \n",
       "2548                4270              4270              4270   \n",
       "2549                1361              1361              1361   \n",
       "2550                5186              5186              5186   \n",
       "2551                 691               691               700   \n",
       "...                  ...               ...               ...   \n",
       "2798                 759               759               759   \n",
       "2799                1372              1372              1379   \n",
       "2800                 904               904               912   \n",
       "2801                 858               858               858   \n",
       "totals           1657857           1660551           1668597   \n",
       "\n",
       "        2020-12-28_cases  2020-12-29_cases  2020-12-30_cases  2020-12-31_cases  \n",
       "2547                   0                 0                 0                 0  \n",
       "2548                4270              4505              4510              4538  \n",
       "2549                1361              1361              1405              1416  \n",
       "2550                5186              5186              5370              5489  \n",
       "2551                 700               709               722               730  \n",
       "...                  ...               ...               ...               ...  \n",
       "2798                 759               759               775               779  \n",
       "2799                1379              1394              1404              1419  \n",
       "2800                 912               929               958               958  \n",
       "2801                 858               861               871               876  \n",
       "totals           1683426           1715978           1737447           1756172  \n",
       "\n",
       "[256 rows x 7 columns]"
      ]
     },
     "execution_count": 5,
     "metadata": {},
     "output_type": "execute_result"
    }
   ],
   "source": [
    "# First I need to import the super_covid_dataset so I can manipulate it.\n",
    "super_covid = pd.read_csv('./data/super_covid_data.csv')\n",
    "\n",
    "# Once I've done that, create a dataframe that only contains the data for Texas.\n",
    "texas_data = super_covid[super_covid['State'] == 'TX']\n",
    "\n",
    "# Total Population being at the end is annoying so I'm moving it to be beside State FIPS\n",
    "populations = texas_data.pop('population')\n",
    "texas_data.insert(4, populations.name, populations)\n",
    "\n",
    "# I don't need to work with all of the texas data so I'm going to cull most of it\n",
    "data_2020 = texas_data.filter(like='2020')\n",
    "cases_2020 = data_2020.filter(like='cases')\n",
    "week_data = cases_2020.iloc[:,-7:]\n",
    "texas_data = texas_data.iloc[:,0:5]\n",
    "\n",
    "# Now that I've culled the data I'm going to put it back together just in case I need it later.\n",
    "texas_data = pd.concat([texas_data, week_data], axis=1)\n",
    "\n",
    "# We're going to sum the weekly data to make my life easier.\n",
    "week_data.loc['totals'] = week_data.sum()\n",
    "week_data"
   ]
  },
  {
   "cell_type": "markdown",
   "metadata": {},
   "source": [
    "### The totals row increases significantly every day of the week that we interrogated.  So cases in Texas were increasing in the last week of 2020."
   ]
  },
  {
   "cell_type": "markdown",
   "metadata": {},
   "source": [
    "# Implement the merge for your enrichment data."
   ]
  },
  {
   "cell_type": "code",
   "execution_count": 12,
   "metadata": {},
   "outputs": [
    {
     "data": {
      "text/plain": [
       "18       01000\n",
       "19       01000\n",
       "20       01000\n",
       "21       01000\n",
       "22       01000\n",
       "         ...  \n",
       "62887    C4974\n",
       "62888    C4974\n",
       "62889    C4974\n",
       "62890    C4974\n",
       "62891    C4974\n",
       "Name: Area\\nCode, Length: 62874, dtype: object"
      ]
     },
     "execution_count": 12,
     "metadata": {},
     "output_type": "execute_result"
    }
   ],
   "source": [
    "bls_data = pd.read_excel('./data/allhlcn20.xlsx')\n",
    "bls_data"
   ]
  },
  {
   "cell_type": "markdown",
   "metadata": {},
   "source": [
    "### Now that I've imported the information I need to edit 'Area\\nCode' until it maps well to super_covid.  Once it does that I can change the column name and merge on that column"
   ]
  }
 ],
 "metadata": {
  "kernelspec": {
   "display_name": "Python 3",
   "language": "python",
   "name": "python3"
  },
  "language_info": {
   "codemirror_mode": {
    "name": "ipython",
    "version": 3
   },
   "file_extension": ".py",
   "mimetype": "text/x-python",
   "name": "python",
   "nbconvert_exporter": "python",
   "pygments_lexer": "ipython3",
   "version": "3.11.9"
  }
 },
 "nbformat": 4,
 "nbformat_minor": 2
}
