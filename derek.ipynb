{
 "cells": [
  {
   "cell_type": "code",
   "id": "initial_id",
   "metadata": {
    "collapsed": true,
    "ExecuteTime": {
     "end_time": "2024-09-10T19:50:52.105223Z",
     "start_time": "2024-09-10T19:50:52.102591Z"
    }
   },
   "source": [
    "import matplotlib.pyplot as plt\n",
    "import pandas as pd\n",
    "import numpy as np"
   ],
   "outputs": [],
   "execution_count": 115
  },
  {
   "metadata": {
    "ExecuteTime": {
     "end_time": "2024-09-10T19:50:52.316823Z",
     "start_time": "2024-09-10T19:50:52.107230Z"
    }
   },
   "cell_type": "code",
   "source": [
    "covid_cases = pd.read_csv('./data/covid_confirmed_usafacts.csv')\n",
    "# covid_cases.head()"
   ],
   "id": "76c165f4becbabf3",
   "outputs": [],
   "execution_count": 116
  },
  {
   "metadata": {
    "ExecuteTime": {
     "end_time": "2024-09-10T19:50:52.320457Z",
     "start_time": "2024-09-10T19:50:52.317826Z"
    }
   },
   "cell_type": "code",
   "source": [
    "STATE = 'Florida'\n",
    "STATE_ABBR = 'FL'"
   ],
   "id": "bf3f47fce4af9856",
   "outputs": [],
   "execution_count": 117
  },
  {
   "metadata": {
    "ExecuteTime": {
     "end_time": "2024-09-10T19:50:52.329585Z",
     "start_time": "2024-09-10T19:50:52.321462Z"
    }
   },
   "cell_type": "code",
   "source": [
    "covid_cases_state = covid_cases[covid_cases['State'] == STATE_ABBR]\n",
    "# covid_cases_state.head()"
   ],
   "id": "15d2ab8b92bf14f1",
   "outputs": [],
   "execution_count": 118
  },
  {
   "metadata": {
    "ExecuteTime": {
     "end_time": "2024-09-10T19:50:52.337326Z",
     "start_time": "2024-09-10T19:50:52.329585Z"
    }
   },
   "cell_type": "code",
   "source": [
    "covid_cases_state_last_week = covid_cases_state.loc[:, ['County Name'] + covid_cases_state.columns[-7:].tolist()]\n",
    "# covid_cases_state_last_week.head()"
   ],
   "id": "ed337a2075738187",
   "outputs": [],
   "execution_count": 119
  },
  {
   "metadata": {
    "ExecuteTime": {
     "end_time": "2024-09-10T19:50:52.451141Z",
     "start_time": "2024-09-10T19:50:52.339330Z"
    }
   },
   "cell_type": "code",
   "source": [
    "melted = covid_cases_state_last_week.melt(id_vars=['County Name'], var_name='Date', value_name='Cases')\n",
    "melted['Date'] = pd.to_datetime(melted['Date'])\n",
    "melted.head()\n",
    "for county, data in melted.groupby('County Name'):\n",
    "    plt.plot(data['Date'], data['Cases'], marker='.', label=county)\n",
    "plt.show()"
   ],
   "id": "b8c7b3e690bb24d5",
   "outputs": [
    {
     "data": {
      "text/plain": [
       "<Figure size 640x480 with 1 Axes>"
      ],
      "image/png": "[encoded data removed]"
     },
     "metadata": {},
     "output_type": "display_data"
    }
   ],
   "execution_count": 120
  },
  {
   "metadata": {
    "ExecuteTime": {
     "end_time": "2024-09-10T19:50:52.471334Z",
     "start_time": "2024-09-10T19:50:52.452145Z"
    }
   },
   "cell_type": "code",
   "source": [
    "pres_by_county = pd.read_csv('./data/president_county_candidate.csv')\n",
    "# pres_by_county.head()"
   ],
   "id": "199a293075f04b6f",
   "outputs": [],
   "execution_count": 121
  },
  {
   "metadata": {
    "ExecuteTime": {
     "end_time": "2024-09-10T19:50:52.473925Z",
     "start_time": "2024-09-10T19:50:52.472339Z"
    }
   },
   "cell_type": "code",
   "source": "",
   "id": "6298b887cb4d21db",
   "outputs": [],
   "execution_count": 121
  }
 ],
 "metadata": {
  "kernelspec": {
   "display_name": "Python 3",
   "language": "python",
   "name": "python3"
  },
  "language_info": {
   "codemirror_mode": {
    "name": "ipython",
    "version": 2
   },
   "file_extension": ".py",
   "mimetype": "text/x-python",
   "name": "python",
   "nbconvert_exporter": "python",
   "pygments_lexer": "ipython2",
   "version": "2.7.6"
  }
 },
 "nbformat": 4,
 "nbformat_minor": 5
}
