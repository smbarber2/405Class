{
 "cells": [
  {
   "cell_type": "code",
   "id": "initial_id",
   "metadata": {
    "collapsed": true,
    "ExecuteTime": {
     "end_time": "2024-11-21T22:58:08.001611Z",
     "start_time": "2024-11-21T22:58:06.587217Z"
    }
   },
   "source": [
    "import plotly.express as px\n",
    "from dash import Dash, html, dcc, callback, Input, Output\n",
    "from Stage5Code import national_data, state_data\n",
    "import pandas as pd"
   ],
   "outputs": [],
   "execution_count": 1
  },
  {
   "metadata": {
    "ExecuteTime": {
     "end_time": "2024-11-21T22:58:08.348110Z",
     "start_time": "2024-11-21T22:58:08.001611Z"
    }
   },
   "cell_type": "code",
   "source": [
    "DEATHS = pd.read_csv('covid_deaths_usafacts.csv')\n",
    "CASES = pd.read_csv('covid_confirmed_usafacts.csv')\n",
    "POPULATION = pd.read_csv('covid_county_population_usafacts.csv')"
   ],
   "id": "d8f4a47f8565256a",
   "outputs": [],
   "execution_count": 2
  },
  {
   "metadata": {
    "ExecuteTime": {
     "end_time": "2024-11-21T22:58:08.394306Z",
     "start_time": "2024-11-21T22:58:08.348110Z"
    }
   },
   "cell_type": "code",
   "source": [
    "case_totals_daily = national_data(CASES)\n",
    "death_totals_daily = national_data(DEATHS)\n",
    "\n",
    "states_case_totals_daily = pd.DataFrame()\n",
    "states_death_totals_daily = pd.DataFrame()\n",
    "STATES = ['NY', 'CA', 'TX', 'FL', 'IL', 'PA']\n",
    "for state in STATES:\n",
    "    states_case_totals_daily[state] = state_data(state, CASES).T\n",
    "    states_death_totals_daily[state] = state_data(state, DEATHS).T"
   ],
   "id": "85517343778e36a0",
   "outputs": [],
   "execution_count": 3
  },
  {
   "metadata": {
    "ExecuteTime": {
     "end_time": "2024-11-21T22:58:08.404239Z",
     "start_time": "2024-11-21T22:58:08.394306Z"
    }
   },
   "cell_type": "code",
   "source": [
    "usa_cases = case_totals_daily.T.reset_index()\n",
    "usa_cases.columns = ['Date', 'Cases']\n",
    "usa_cases['Date'] = pd.to_datetime(usa_cases['Date'])\n",
    "\n",
    "usa_deaths = death_totals_daily.T.reset_index()\n",
    "usa_deaths.columns = ['Date', 'Deaths']\n",
    "usa_deaths['Date'] = pd.to_datetime(usa_deaths['Date'])\n",
    "\n",
    "states_cases = states_case_totals_daily.reset_index(names=['Date'])\n",
    "states_cases['Date'] = pd.to_datetime(states_cases['Date'])\n",
    "\n",
    "states_deaths = states_death_totals_daily.reset_index(names=['Date'])\n",
    "states_deaths['Date'] = pd.to_datetime(states_deaths['Date'])"
   ],
   "id": "112727f969c21f2b",
   "outputs": [],
   "execution_count": 4
  },
  {
   "metadata": {
    "ExecuteTime": {
     "end_time": "2024-11-21T22:58:08.439316Z",
     "start_time": "2024-11-21T22:58:08.404239Z"
    }
   },
   "cell_type": "code",
   "source": [
    "print('Constructing Dash app...')\n",
    "app = Dash(__name__)\n",
    "app.layout = (\n",
    "    html.Div\n",
    "        (\n",
    "        [\n",
    "            html.H1(\"Group 1 - Stage V\", style={'text-align': 'center', 'color': '#333'}),\n",
    "            html.H2(\"COVID-19 Cases and Deaths in the United States\", style={'text-align': 'center', 'color': '#333'}),\n",
    "            dcc.Graph(id='usa_graph'),\n",
    "            html.Div(\n",
    "                [\n",
    "                    html.Label(\"Data Selection\", style={'font-weight': 'bold'}),\n",
    "                    dcc.Dropdown(\n",
    "                        id='casedeath-dropdown1', clearable=False,\n",
    "                        value='Cases', options=[\n",
    "                            {'label': 'Cases', 'value': 'Cases'},\n",
    "                            {'label': 'Deaths', 'value': 'Deaths'}\n",
    "                        ]\n",
    "                    )\n",
    "                ], style={'margin-bottom': '20px', 'padding': '10px', 'border': '1px solid #ccc'}\n",
    "            ),\n",
    "            html.Div(\n",
    "                [\n",
    "                    html.Label(\"Scale Type\", style={'font-weight': 'bold'}),\n",
    "                    dcc.Dropdown(\n",
    "                        id='scale-dropdown', clearable=False,\n",
    "                        value='linear', options=[\n",
    "                            {'label': 'Linear', 'value': 'linear'},\n",
    "                            {'label': 'Logarithmic', 'value': 'log'}\n",
    "                        ]\n",
    "                    )\n",
    "                ], style={'margin-bottom': '20px', 'padding': '10px', 'border': '1px solid #ccc'}\n",
    "            ),\n",
    "            html.Div(\n",
    "                [\n",
    "                    html.Label(\"Date Range\", style={'font-weight': 'bold'}),\n",
    "                    dcc.DatePickerRange(\n",
    "                        id='date-picker-range',\n",
    "                        start_date=usa_cases['Date'].min(),\n",
    "                        end_date=usa_cases['Date'].max(),\n",
    "                        display_format='YYYY-MM-DD'\n",
    "                    )\n",
    "                ], style={'margin-bottom': '20px', 'padding': '10px', 'border': '1px solid #ccc'}\n",
    "            ),\n",
    "            html.Div(\n",
    "                [\n",
    "                    html.Label(\"Trendline\", style={'font-weight': 'bold'}),\n",
    "                    dcc.RadioItems(\n",
    "                        id='trendline-radio',\n",
    "                        options=[\n",
    "                            {'label': 'None', 'value': 'none'},\n",
    "                            {'label': 'Linear', 'value': 'ols'}\n",
    "                        ],\n",
    "                        value='none'\n",
    "                    )\n",
    "                ], style={'margin-bottom': '20px', 'padding': '10px', 'border': '1px solid #ccc'}\n",
    "            ),\n",
    "        ], style={'padding': '20px', 'background-color': '#f9f9f9'}\n",
    "    ),\n",
    "    html.Div\n",
    "        (\n",
    "        [\n",
    "            html.H2(\"7-Day Rolling Average for Cases/Deaths by State\", style={'text-align': 'center', 'color': '#333'}),\n",
    "            dcc.Graph(id='graph2'),\n",
    "            html.Div(\n",
    "                [\n",
    "                    html.Label(\"Data Selection\", style={'font-weight': 'bold'}),\n",
    "                    dcc.Dropdown(\n",
    "                        id='casedeath-dropdown2', clearable=False,\n",
    "                        value='Cases', options=[\n",
    "                            {'label': 'Cases', 'value': 'Cases'},\n",
    "                            {'label': 'Deaths', 'value': 'Deaths'}\n",
    "                        ]\n",
    "                    )\n",
    "                ], style={'margin-bottom': '20px', 'padding': '10px', 'border': '1px solid #ccc'}\n",
    "            ),\n",
    "            html.Div(\n",
    "                [\n",
    "                    html.Label(\"State\", style={'font-weight': 'bold'}),\n",
    "                    dcc.Checklist(\n",
    "                        id='state-checklist',\n",
    "                        options=[\n",
    "                            {'label': 'New York', 'value': 'NY'},\n",
    "                            {'label': 'California', 'value': 'CA'},\n",
    "                            {'label': 'Texas', 'value': 'TX'},\n",
    "                            {'label': 'Florida', 'value': 'FL'},\n",
    "                            {'label': 'Illinois', 'value': 'IL'},\n",
    "                            {'label': 'Pennsylvania', 'value': 'PA'}\n",
    "                        ],\n",
    "                        value=['NY'],  # Default selected values\n",
    "                        labelStyle={'display': 'block'}\n",
    "                    )\n",
    "                ], style={'margin-bottom': '20px', 'padding': '10px', 'border': '1px solid #ccc'}\n",
    "            )\n",
    "        ]\n",
    "    )\n",
    ")\n",
    "\n",
    "\n",
    "@app.callback(\n",
    "    [\n",
    "        Output('usa_graph', 'figure'),\n",
    "        Output('date-picker-range', 'start_date'),\n",
    "        Output('date-picker-range', 'end_date')\n",
    "    ],\n",
    "    [\n",
    "        Input(\"casedeath-dropdown1\", \"value\"),\n",
    "        Input(\"scale-dropdown\", \"value\"),\n",
    "        Input(\"date-picker-range\", \"start_date\"),\n",
    "        Input(\"date-picker-range\", \"end_date\"),\n",
    "        Input(\"trendline-radio\", \"value\")\n",
    "    ]\n",
    ")\n",
    "def update_usa_figure(casedeath, scale, start_date, end_date, trendline):\n",
    "    frame = usa_cases if casedeath == 'Cases' else usa_deaths\n",
    "    color = 'blue' if casedeath == 'Cases' else 'red'\n",
    "\n",
    "    mask = (frame['Date'] >= start_date) & (frame['Date'] <= end_date)\n",
    "    filtered_frame = frame.loc[mask]\n",
    "\n",
    "    fig = px.scatter(\n",
    "        filtered_frame, x='Date', y=casedeath, render_mode=\"webgl\",\n",
    "        title=f'Total COVID-19 {casedeath} in the U.S.',\n",
    "        trendline=None if trendline == 'none' else 'ols'\n",
    "    ).update_traces(marker=dict(color=color))\n",
    "\n",
    "    if scale == 'log':\n",
    "        fig.update_layout(yaxis_type=\"log\")\n",
    "\n",
    "    return fig, start_date, end_date\n",
    "\n",
    "\n",
    "@app.callback(\n",
    "    [\n",
    "        Output('graph2', 'figure'),\n",
    "    ],\n",
    "    [\n",
    "        Input(\"casedeath-dropdown2\", \"value\"),\n",
    "        Input('state-checklist', 'value')\n",
    "    ]\n",
    ")\n",
    "def update_state_figure(casedeath, states):\n",
    "    frame = states_cases if casedeath == 'Cases' else states_deaths\n",
    "\n",
    "    if not states:\n",
    "        states = ['NY']  # Default to NY if no state is selected\n",
    "\n",
    "    cmap = {\n",
    "        \"NY\": \"blue\",\n",
    "        \"CA\": \"red\",\n",
    "        \"TX\": \"green\",\n",
    "        \"FL\": \"purple\",\n",
    "        \"IL\": \"orange\",\n",
    "        \"PA\": \"brown\"}\n",
    "    \n",
    "    filtered_frame = frame[['Date'] + states].melt(id_vars=['Date'], var_name='State', value_name=casedeath)\n",
    "    fig = px.scatter(filtered_frame, x='Date', y=casedeath, color='State', color_discrete_map=cmap,\n",
    "                     title=f'COVID-19 {casedeath} by State',\n",
    "                     render_mode=\"webgl\", trendline='rolling', trendline_options=dict(window=7))\n",
    "    fig.data = [t for t in fig.data if t.mode == \"lines\"]\n",
    "    fig.update_traces(showlegend=True)\n",
    "\n",
    "    return [fig]\n",
    "\n",
    "\n",
    "app.run(jupyter_mode='tab', debug=False)"
   ],
   "id": "d45844acabdd919c",
   "outputs": [
    {
     "name": "stdout",
     "output_type": "stream",
     "text": [
      "Constructing Dash app...\n",
      "Dash app running on http://127.0.0.1:8050/\n"
     ]
    },
    {
     "data": {
      "text/plain": [
       "<IPython.core.display.Javascript object>"
      ],
      "application/javascript": "window.open('http://127.0.0.1:8050/')"
     },
     "metadata": {},
     "output_type": "display_data"
    }
   ],
   "execution_count": 5
  }
 ],
 "metadata": {
  "kernelspec": {
   "display_name": "Python 3",
   "language": "python",
   "name": "python3"
  },
  "language_info": {
   "codemirror_mode": {
    "name": "ipython",
    "version": 2
   },
   "file_extension": ".py",
   "mimetype": "text/x-python",
   "name": "python",
   "nbconvert_exporter": "python",
   "pygments_lexer": "ipython2",
   "version": "2.7.6"
  }
 },
 "nbformat": 4,
 "nbformat_minor": 5
}
