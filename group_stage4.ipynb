{
 "cells": [
  {
   "cell_type": "markdown",
   "id": "016c0ce1-4e07-44fe-87aa-55bbdabd599b",
   "metadata": {},
   "source": [
    "Develop Linear and Non-Linear (polynomial with degree n) regression models for predicting cases and deaths in US.\n",
    "Start your data from 2020.06.01 (Monday) to 2021.01.03 (Sunday) of infections in US. X-Axis - number of days, Y-Axis - number of new cases and deaths. (10 points)"
   ]
  },
  {
   "cell_type": "markdown",
   "id": "8297df82-e98a-4dee-a90e-c3b08afce9ea",
   "metadata": {},
   "source": [
    "### Imports"
   ]
  },
  {
   "cell_type": "code",
   "execution_count": 55,
   "id": "83e790e6-c061-4008-a617-7125dd86c3e6",
   "metadata": {},
   "outputs": [],
   "source": [
    "import pandas as pd\n",
    "import numpy as np\n",
    "import matplotlib.pyplot as plt\n",
    "import plotly.express as px\n",
    "from scipy import stats\n",
    "from scipy.stats import norm\n",
    "from sklearn.linear_model import LinearRegression\n",
    "\n",
    "#importing total deaths and cases as reduced in Stage 2\n",
    "\n",
    "cc_date = pd.read_csv('Total_USA_Cases_Reduced.csv')\n",
    "cd_date = pd.read_csv('Total_USA_Deaths_Reduced.csv')"
   ]
  },
  {
   "cell_type": "markdown",
   "id": "ea8488bb-acd9-4e59-9b80-d5fe49ddec5c",
   "metadata": {},
   "source": [
    "### Linear Regression Model"
   ]
  },
  {
   "cell_type": "code",
   "execution_count": 83,
   "id": "8e928d52-1003-497d-a9c9-21d69b572d29",
   "metadata": {},
   "outputs": [],
   "source": [
    "\n",
    "\n",
    "\n",
    "#cd_date_total = cd_date.T.sum(axis=1)\n",
    "#plt.plot(cd_date_total)\n",
    "#plt.title('Linear Regression Model for Total Deaths and Cases across U.S.')  #Graph formatting\n",
    "#plt.xlabel('Number of Days')\n",
    "#plt.ylabel('Number of new Deaths/Cases')\n",
    "#plt.xticks(rotation=90)  # Rotate x-axis labels by 45 degrees \n",
    "#plt.tight_layout()\n",
    "#plt.show()"
   ]
  },
  {
   "cell_type": "markdown",
   "id": "24077485-0f62-4311-b779-2c8e12ebfe7d",
   "metadata": {},
   "source": [
    "### Non-Linear Regression Model"
   ]
  },
  {
   "cell_type": "code",
   "execution_count": null,
   "id": "e1c6b2e6-53d8-44bd-8083-55d6fce7fe5e",
   "metadata": {},
   "outputs": [],
   "source": []
  },
  {
   "cell_type": "markdown",
   "id": "ece07cf4-e2cd-4d73-8afe-c0b1c4271854",
   "metadata": {},
   "source": [
    "---"
   ]
  },
  {
   "cell_type": "markdown",
   "id": "6537ad37-9d01-4892-854e-41d947ef7d8c",
   "metadata": {},
   "source": [
    "### Root Mean Square Error"
   ]
  },
  {
   "cell_type": "markdown",
   "id": "ff7e2335-1f32-4964-a8a7-2067f79ba51e",
   "metadata": {},
   "source": [
    "Calculate and report Root Mean Square Error (RMSE) for your models (linear and non-linear). https://en.wikipedia.org/wiki/Root-mean-square_deviation. Discuss bias versus variance tradeoff. (10 points)"
   ]
  },
  {
   "cell_type": "code",
   "execution_count": null,
   "id": "bf4d6f83-bb49-4c14-98b7-6f4e381a3dc4",
   "metadata": {},
   "outputs": [],
   "source": []
  },
  {
   "cell_type": "markdown",
   "id": "7be9719a-f705-4101-908a-57cca0662b77",
   "metadata": {},
   "source": [
    "---"
   ]
  },
  {
   "cell_type": "markdown",
   "id": "b73ed78a-6f0d-4103-a642-23863ce6dd1b",
   "metadata": {},
   "source": [
    "### Predictive Trendline"
   ]
  },
  {
   "cell_type": "markdown",
   "id": "414540f8-895d-4246-b507-efaf9e132b7d",
   "metadata": {},
   "source": [
    "Plot trend line along for the data along with the forecast of 1 week ahead (i.e. make prediction on 2021.01.04 - 2021.01.10). (10 points)\n",
    "Describe the trends as compared to other countries. (10 points)"
   ]
  },
  {
   "cell_type": "code",
   "execution_count": null,
   "id": "d629de47-96cb-4f76-97cd-871cb41b36a4",
   "metadata": {},
   "outputs": [],
   "source": []
  }
 ],
 "metadata": {
  "kernelspec": {
   "display_name": "Python 3 (ipykernel)",
   "language": "python",
   "name": "python3"
  },
  "language_info": {
   "codemirror_mode": {
    "name": "ipython",
    "version": 3
   },
   "file_extension": ".py",
   "mimetype": "text/x-python",
   "name": "python",
   "nbconvert_exporter": "python",
   "pygments_lexer": "ipython3",
   "version": "3.12.4"
  }
 },
 "nbformat": 4,
 "nbformat_minor": 5
}
